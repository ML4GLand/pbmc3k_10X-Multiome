{
 "cells": [
  {
   "cell_type": "code",
   "execution_count": 1,
   "metadata": {},
   "outputs": [
    {
     "name": "stdout",
     "output_type": "stream",
     "text": [
      "The history saving thread hit an unexpected error (DatabaseError('database disk image is malformed')).History will not be written to the database.\n"
     ]
    }
   ],
   "source": [
    "import dragonnfruit"
   ]
  },
  {
   "cell_type": "code",
   "execution_count": 16,
   "metadata": {},
   "outputs": [],
   "source": [
    "from dragonnfruit.preprocessing import extract_fragments, _extract_fragments, extract_cellxpeak, read_chrom_sizes"
   ]
  },
  {
   "cell_type": "code",
   "execution_count": 17,
   "metadata": {},
   "outputs": [
    {
     "data": {
      "text/plain": [
       "['chr1',\n",
       " 'chr2',\n",
       " 'chr3',\n",
       " 'chr4',\n",
       " 'chr5',\n",
       " 'chr6',\n",
       " 'chr7',\n",
       " 'chr8',\n",
       " 'chr9',\n",
       " 'chr10',\n",
       " 'chr11',\n",
       " 'chr12',\n",
       " 'chr13',\n",
       " 'chr14',\n",
       " 'chr15',\n",
       " 'chr16',\n",
       " 'chr17',\n",
       " 'chr18',\n",
       " 'chr19',\n",
       " 'chr20',\n",
       " 'chr21',\n",
       " 'chr22',\n",
       " 'chrX',\n",
       " 'chrY']"
      ]
     },
     "execution_count": 17,
     "metadata": {},
     "output_type": "execute_result"
    }
   ],
   "source": [
    "chroms = [\"chr1\", \"chr2\", \"chr3\", \"chr4\", \"chr5\", \"chr6\", \"chr7\", \"chr8\", \"chr9\", \"chr10\", \"chr11\", \"chr12\", \"chr13\", \"chr14\", \"chr15\", \"chr16\", \"chr17\", \"chr18\", \"chr19\", \"chr20\", \"chr21\", \"chr22\", \"chrX\", \"chrY\"]\n",
    "chroms"
   ]
  },
  {
   "cell_type": "code",
   "execution_count": 18,
   "metadata": {},
   "outputs": [
    {
     "data": {
      "text/plain": [
       "{'chr1': 248956422,\n",
       " 'chr2': 242193529,\n",
       " 'chr3': 198295559,\n",
       " 'chr4': 190214555,\n",
       " 'chr5': 181538259,\n",
       " 'chr6': 170805979,\n",
       " 'chr7': 159345973,\n",
       " 'chr8': 145138636,\n",
       " 'chr9': 138394717,\n",
       " 'chr10': 133797422,\n",
       " 'chr11': 135086622,\n",
       " 'chr12': 133275309,\n",
       " 'chr13': 114364328,\n",
       " 'chr14': 107043718,\n",
       " 'chr15': 101991189,\n",
       " 'chr16': 90338345,\n",
       " 'chr17': 83257441,\n",
       " 'chr18': 80373285,\n",
       " 'chr19': 58617616,\n",
       " 'chr20': 64444167,\n",
       " 'chr21': 46709983,\n",
       " 'chr22': 50818468,\n",
       " 'chrX': 156040895,\n",
       " 'chrY': 57227415}"
      ]
     },
     "execution_count": 18,
     "metadata": {},
     "output_type": "execute_result"
    }
   ],
   "source": [
    "chrom_sizes, header = read_chrom_sizes(\"/cellar/users/aklie/data/datasets/pbmc3k_10X-Multiome/data/hg38.chrom.sizes\")\n",
    "chrom_sizes = {k: v for k, v in chrom_sizes.items() if k in chroms}\n",
    "chrom_sizes"
   ]
  },
  {
   "cell_type": "code",
   "execution_count": 24,
   "metadata": {},
   "outputs": [
    {
     "name": "stderr",
     "output_type": "stream",
     "text": [
      "PBCM3K#: 44110005it [04:17, 171333.39it/s]\n"
     ]
    },
    {
     "name": "stdout",
     "output_type": "stream",
     "text": [
      "\n",
      "/cellar/users/aklie/data/datasets/pbmc3k_10X-Multiome/data/pbmc_granulocyte_sorted_3k_atac_fragments.tsv.gz\n",
      "Cell included:  461883\n",
      "Cells excluded:  0\n",
      "Cells not included:  0\n",
      "Cells added:  461883\n",
      "Cell inclusion list size:  0\n",
      "Cell exclusion list size:  0\n",
      "Frag. included count:  43989358\n",
      "Frag. filtered by chrom:  13853\n",
      "Frag. filtered by length:  106743\n",
      "\n"
     ]
    }
   ],
   "source": [
    "X, depths = extract_fragments(\n",
    "    [\"/cellar/users/aklie/data/datasets/pbmc3k_10X-Multiome/data/pbmc_granulocyte_sorted_3k_atac_fragments.tsv.gz\"],\n",
    "    chrom_sizes=chrom_sizes,\n",
    "    verbose=True,\n",
    "    start_offset=4,\n",
    "    end_offset=-4,\n",
    "    cell_name_prefixes=[\"PBCM3K#\"],\n",
    "    n_jobs=1\n",
    ")"
   ]
  },
  {
   "cell_type": "code",
   "execution_count": 27,
   "metadata": {},
   "outputs": [
    {
     "data": {
      "text/plain": [
       "array([32654,     6, 66416, ...,     2,     2,     2])"
      ]
     },
     "execution_count": 27,
     "metadata": {},
     "output_type": "execute_result"
    }
   ],
   "source": [
    "depths"
   ]
  },
  {
   "cell_type": "code",
   "execution_count": 28,
   "metadata": {},
   "outputs": [
    {
     "name": "stderr",
     "output_type": "stream",
     "text": [
      "98319it [00:20, 4727.12it/s]\n"
     ]
    }
   ],
   "source": [
    "peak_mat = extract_cellxpeak(\n",
    "    X,\n",
    "    peaks=\"/cellar/users/aklie/data/datasets/pbmc3k_10X-Multiome/data/pbmc_granulocyte_sorted_3k_atac_peaks_no#.bed\",\n",
    "    chroms=chroms,\n",
    "    verbose=True\n",
    ")"
   ]
  },
  {
   "cell_type": "code",
   "execution_count": 36,
   "metadata": {},
   "outputs": [
    {
     "data": {
      "text/plain": [
       "array([[ 2,  0,  0,  0,  0,  0,  0,  0,  0,  0],\n",
       "       [ 2,  0,  0,  0,  0,  0,  0,  0,  0,  0],\n",
       "       [ 2,  0,  0,  0,  2,  0,  0,  0,  2,  8],\n",
       "       [ 2,  0,  0,  0,  0,  0,  0,  0,  0,  0],\n",
       "       [ 2,  0,  0,  0,  0,  0,  0,  0,  0,  0],\n",
       "       [ 2,  0,  0,  0,  0,  0,  0,  0,  0,  0],\n",
       "       [ 2,  0,  0,  0,  0,  0,  0,  0,  0,  0],\n",
       "       [ 2,  0,  0,  0,  0,  0,  0,  0,  0,  0],\n",
       "       [ 2,  0,  0,  0,  0,  0,  0,  0,  0,  0],\n",
       "       [ 2,  0,  0,  0,  0,  0,  0,  0,  0,  0],\n",
       "       [ 2,  0,  0,  0,  0,  0,  0,  0,  0,  2],\n",
       "       [ 2,  0,  0,  0,  0,  0,  0,  0,  0,  0],\n",
       "       [ 2,  2,  0,  0,  0,  0,  0,  0,  0,  0],\n",
       "       [ 2,  0,  0,  0,  0,  0,  0,  0,  0,  0],\n",
       "       [ 2,  0,  0,  0,  0,  0,  0,  0,  0,  0],\n",
       "       [ 2,  0,  0,  0,  0,  0,  0,  0,  0,  0],\n",
       "       [ 2,  0,  0,  0,  0,  0,  0,  0,  0,  0],\n",
       "       [ 2,  0,  0,  0,  0,  0,  0,  0,  0,  0],\n",
       "       [ 2,  2,  0,  0,  0,  0,  0,  0,  0,  0],\n",
       "       [ 2,  0,  0,  2,  2,  0,  0,  0,  0,  0],\n",
       "       [ 2,  0,  0,  0,  0,  0,  0,  0,  0,  6],\n",
       "       [ 2,  0,  0,  0,  0,  0,  0,  0,  0,  0],\n",
       "       [ 2,  0,  0,  0,  0,  0,  0,  0,  0,  4],\n",
       "       [ 2,  0,  0,  0,  0,  0,  0,  0,  0,  0],\n",
       "       [ 2,  0,  0,  0,  0,  0,  0,  0,  0,  0],\n",
       "       [ 2,  0,  0,  0,  0,  0,  0,  0,  0,  0],\n",
       "       [ 2,  0,  0,  0,  0,  0,  0,  0,  0,  6],\n",
       "       [ 2,  0,  0,  0,  0,  0,  0,  0,  0,  0],\n",
       "       [ 2,  0,  0,  0,  0,  2,  0,  0,  0,  0],\n",
       "       [ 0,  0,  0,  0,  0,  0,  0,  0,  0,  0],\n",
       "       [ 0,  0,  4,  0,  0,  0,  0,  0,  0,  2],\n",
       "       [ 0,  0,  0,  0,  0,  0,  0,  0,  0,  0],\n",
       "       [ 0,  0,  0,  0,  0,  0,  0,  0,  0,  0],\n",
       "       [ 0,  0,  0,  0,  0,  0,  0,  0,  0,  0],\n",
       "       [ 0,  0,  0,  0,  0,  0,  0,  0,  0,  0],\n",
       "       [ 0,  0,  0,  0,  0,  0,  0,  0,  4,  4],\n",
       "       [ 0,  0,  0,  0,  0,  0,  0,  0,  0,  0],\n",
       "       [ 0,  0,  0,  0,  0,  0,  0,  0,  0,  0],\n",
       "       [ 0,  0,  0,  0,  0,  0,  0,  0,  0,  0],\n",
       "       [ 0,  0,  0,  0,  0,  0,  0,  0,  0,  0],\n",
       "       [ 0,  0,  0,  0,  2,  0,  0,  0,  0,  0],\n",
       "       [ 0,  0,  0,  0,  0,  0,  0,  0,  0,  0],\n",
       "       [ 0,  0,  0,  0,  0,  0,  0,  0,  0,  0],\n",
       "       [ 0,  0,  0,  0,  0,  0,  0,  0,  0,  0],\n",
       "       [ 0,  0,  0,  0,  0,  0,  0,  0,  4, 12],\n",
       "       [ 0,  0,  0,  0,  0,  0,  2,  0,  0,  0],\n",
       "       [ 0,  0,  0,  0,  0,  0,  0,  0,  0,  0],\n",
       "       [ 0,  0,  0,  0,  0,  0,  0,  0,  2,  0],\n",
       "       [ 0,  0,  0,  0,  0,  0,  0,  0,  0,  0],\n",
       "       [ 0,  0,  0,  0,  0,  0,  0,  0,  2,  4]], dtype=int8)"
      ]
     },
     "execution_count": 36,
     "metadata": {},
     "output_type": "execute_result"
    }
   ],
   "source": [
    "peak_mat[:50, :10].A"
   ]
  },
  {
   "cell_type": "code",
   "execution_count": null,
   "metadata": {},
   "outputs": [],
   "source": []
  }
 ],
 "metadata": {
  "kernelspec": {
   "display_name": "Python 3.9 ml4gland",
   "language": "python",
   "name": "ml4gland"
  },
  "language_info": {
   "codemirror_mode": {
    "name": "ipython",
    "version": 3
   },
   "file_extension": ".py",
   "mimetype": "text/x-python",
   "name": "python",
   "nbconvert_exporter": "python",
   "pygments_lexer": "ipython3",
   "version": "3.9.16"
  }
 },
 "nbformat": 4,
 "nbformat_minor": 2
}

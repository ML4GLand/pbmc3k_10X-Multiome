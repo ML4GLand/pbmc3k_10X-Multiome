{
 "cells": [
  {
   "cell_type": "code",
   "execution_count": 6,
   "metadata": {},
   "outputs": [],
   "source": [
    "import pandas as pd\n",
    "import snapatac2 as snap\n",
    "from scipy.io import mmwrite"
   ]
  },
  {
   "cell_type": "code",
   "execution_count": 2,
   "metadata": {},
   "outputs": [],
   "source": [
    "adata = snap.pp.import_data(\n",
    "    fragment_file=\"/cellar/users/aklie/data/datasets/pbmc3k_10X-Multiome/data/pbmc_granulocyte_sorted_3k_atac_fragments.tsv.gz\",\n",
    "    chrom_sizes=snap.genome.hg38,\n",
    "    file=\"/cellar/users/aklie/data/datasets/pbmc3k_10X-Multiome/data/snap.h5ad\",\n",
    "    min_num_fragments=1000,\n",
    "    shift_left=4,\n",
    "    shift_right=4,\n",
    "    sorted_by_barcode=False,\n",
    ")"
   ]
  },
  {
   "cell_type": "code",
   "execution_count": 8,
   "metadata": {},
   "outputs": [],
   "source": [
    "adata = snap.read(\"/cellar/users/aklie/data/datasets/pbmc3k_10X-Multiome/data/snap.h5ad\")"
   ]
  },
  {
   "cell_type": "code",
   "execution_count": 9,
   "metadata": {},
   "outputs": [],
   "source": [
    "chroms = [\"chr1\", \"chr2\", \"chr3\", \"chr4\", \"chr5\", \"chr6\", \"chr7\", \"chr8\", \"chr9\", \"chr10\", \"chr11\", \"chr12\", \"chr13\", \"chr14\", \"chr15\", \"chr16\", \"chr17\", \"chr18\", \"chr19\", \"chr20\", \"chr21\", \"chr22\", \"chrX\", \"chrY\"]\n",
    "chrom_sizes = {k: v for k, v in snap.genome.hg38.chrom_sizes.items() if k in chroms}\n",
    "chrom_sizes"
   ]
  },
  {
   "cell_type": "code",
   "execution_count": 12,
   "metadata": {},
   "outputs": [
    {
     "name": "stderr",
     "output_type": "stream",
     "text": [
      "/cellar/users/aklie/opt/miniconda3/envs/scverse-lite-py39/lib/python3.9/site-packages/anndata/_core/anndata.py:183: ImplicitModificationWarning: Transforming to str index.\n",
      "  warnings.warn(\"Transforming to str index.\", ImplicitModificationWarning)\n"
     ]
    }
   ],
   "source": [
    "insertion_peaks = snap.pp.make_peak_matrix(\n",
    "    adata,\n",
    "    peak_file=\"/cellar/users/aklie/data/datasets/pbmc3k_10X-Multiome/data/pbmc_granulocyte_sorted_3k_atac_peaks_no#.bed\",\n",
    "    #counting_strategy=\"insertion\",\n",
    ")"
   ]
  },
  {
   "cell_type": "code",
   "execution_count": 13,
   "metadata": {},
   "outputs": [],
   "source": [
    "insertion_peaks.write(\"/cellar/users/aklie/data/datasets/pbmc3k_10X-Multiome/data/insertion_peaks.h5ad\")"
   ]
  },
  {
   "cell_type": "code",
   "execution_count": 14,
   "metadata": {},
   "outputs": [],
   "source": [
    "# Write .X as sparse matrix\n",
    "mmwrite(\"/cellar/users/aklie/data/datasets/pbmc3k_10X-Multiome/data/insertion_peaks.mtx\", insertion_peaks.X)"
   ]
  },
  {
   "cell_type": "code",
   "execution_count": 15,
   "metadata": {},
   "outputs": [
    {
     "data": {
      "text/html": [
       "<div>\n",
       "<style scoped>\n",
       "    .dataframe tbody tr th:only-of-type {\n",
       "        vertical-align: middle;\n",
       "    }\n",
       "\n",
       "    .dataframe tbody tr th {\n",
       "        vertical-align: top;\n",
       "    }\n",
       "\n",
       "    .dataframe thead th {\n",
       "        text-align: right;\n",
       "    }\n",
       "</style>\n",
       "<table border=\"1\" class=\"dataframe\">\n",
       "  <thead>\n",
       "    <tr style=\"text-align: right;\">\n",
       "      <th></th>\n",
       "      <th>chrom</th>\n",
       "      <th>start</th>\n",
       "      <th>end</th>\n",
       "    </tr>\n",
       "  </thead>\n",
       "  <tbody>\n",
       "    <tr>\n",
       "      <th>chr1:9768-10660</th>\n",
       "      <td>chr1</td>\n",
       "      <td>9768</td>\n",
       "      <td>10660</td>\n",
       "    </tr>\n",
       "    <tr>\n",
       "      <th>chr1:180582-181297</th>\n",
       "      <td>chr1</td>\n",
       "      <td>180582</td>\n",
       "      <td>181297</td>\n",
       "    </tr>\n",
       "    <tr>\n",
       "      <th>chr1:181404-181887</th>\n",
       "      <td>chr1</td>\n",
       "      <td>181404</td>\n",
       "      <td>181887</td>\n",
       "    </tr>\n",
       "    <tr>\n",
       "      <th>chr1:191175-192089</th>\n",
       "      <td>chr1</td>\n",
       "      <td>191175</td>\n",
       "      <td>192089</td>\n",
       "    </tr>\n",
       "    <tr>\n",
       "      <th>chr1:267561-268455</th>\n",
       "      <td>chr1</td>\n",
       "      <td>267561</td>\n",
       "      <td>268455</td>\n",
       "    </tr>\n",
       "    <tr>\n",
       "      <th>...</th>\n",
       "      <td>...</td>\n",
       "      <td>...</td>\n",
       "      <td>...</td>\n",
       "    </tr>\n",
       "    <tr>\n",
       "      <th>chrX:156030114-156030945</th>\n",
       "      <td>chrX</td>\n",
       "      <td>156030114</td>\n",
       "      <td>156030945</td>\n",
       "    </tr>\n",
       "    <tr>\n",
       "      <th>chrY:11295202-11296181</th>\n",
       "      <td>chrY</td>\n",
       "      <td>11295202</td>\n",
       "      <td>11296181</td>\n",
       "    </tr>\n",
       "    <tr>\n",
       "      <th>chrY:11332853-11333545</th>\n",
       "      <td>chrY</td>\n",
       "      <td>11332853</td>\n",
       "      <td>11333545</td>\n",
       "    </tr>\n",
       "    <tr>\n",
       "      <th>chrY:11333667-11334374</th>\n",
       "      <td>chrY</td>\n",
       "      <td>11333667</td>\n",
       "      <td>11334374</td>\n",
       "    </tr>\n",
       "    <tr>\n",
       "      <th>chrY:56836234-56837094</th>\n",
       "      <td>chrY</td>\n",
       "      <td>56836234</td>\n",
       "      <td>56837094</td>\n",
       "    </tr>\n",
       "  </tbody>\n",
       "</table>\n",
       "<p>98290 rows × 3 columns</p>\n",
       "</div>"
      ],
      "text/plain": [
       "                         chrom      start        end\n",
       "chr1:9768-10660           chr1       9768      10660\n",
       "chr1:180582-181297        chr1     180582     181297\n",
       "chr1:181404-181887        chr1     181404     181887\n",
       "chr1:191175-192089        chr1     191175     192089\n",
       "chr1:267561-268455        chr1     267561     268455\n",
       "...                        ...        ...        ...\n",
       "chrX:156030114-156030945  chrX  156030114  156030945\n",
       "chrY:11295202-11296181    chrY   11295202   11296181\n",
       "chrY:11332853-11333545    chrY   11332853   11333545\n",
       "chrY:11333667-11334374    chrY   11333667   11334374\n",
       "chrY:56836234-56837094    chrY   56836234   56837094\n",
       "\n",
       "[98290 rows x 3 columns]"
      ]
     },
     "execution_count": 15,
     "metadata": {},
     "output_type": "execute_result"
    }
   ],
   "source": [
    "# Get bed dataframe from peak.var.index\n",
    "chroms = insertion_peaks.var.index.str.split(\":\").str[0]\n",
    "starts = insertion_peaks.var.index.str.split(\":\").str[1].str.split(\"-\").str[0]\n",
    "ends = insertion_peaks.var.index.str.split(\":\").str[1].str.split(\"-\").str[1]\n",
    "bed_df = pd.DataFrame({'chrom': chroms, 'start': starts, 'end': ends}, index=insertion_peaks.var.index)\n",
    "bed_df"
   ]
  },
  {
   "cell_type": "code",
   "execution_count": 16,
   "metadata": {},
   "outputs": [
    {
     "name": "stderr",
     "output_type": "stream",
     "text": [
      "Error in atexit._run_exitfuncs:\n",
      "Traceback (most recent call last):\n",
      "  File \"/cellar/users/aklie/opt/miniconda3/envs/scverse-lite-py39/lib/python3.9/site-packages/IPython/core/history.py\", line 844, in writeout_cache\n",
      "    self._writeout_input_cache(conn)\n",
      "  File \"/cellar/users/aklie/opt/miniconda3/envs/scverse-lite-py39/lib/python3.9/site-packages/IPython/core/history.py\", line 827, in _writeout_input_cache\n",
      "    conn.execute(\"INSERT INTO history VALUES (?, ?, ?, ?)\",\n",
      "sqlite3.DatabaseError: database disk image is malformed\n"
     ]
    }
   ],
   "source": [
    "# Write bed file\n",
    "bed_df.to_csv(\"/cellar/users/aklie/data/datasets/pbmc3k_10X-Multiome/data/peaks.bed\", sep=\"\\t\", header=False, index=False)"
   ]
  },
  {
   "cell_type": "markdown",
   "metadata": {},
   "source": [
    "# DONE!"
   ]
  },
  {
   "cell_type": "markdown",
   "metadata": {},
   "source": [
    "---"
   ]
  }
 ],
 "metadata": {
  "kernelspec": {
   "display_name": "Python 3.9 scverse-lite",
   "language": "python",
   "name": "scverse-lite-py39"
  }
 },
 "nbformat": 4,
 "nbformat_minor": 2
}
